{
 "cells": [
  {
   "cell_type": "code",
   "execution_count": 44,
   "metadata": {},
   "outputs": [],
   "source": [
    "import numpy as np\n",
    "import matplotlib.pyplot as plt\n",
    "import tkinter as tk\n",
    "from PIL import ImageTk,Image\n"
   ]
  },
  {
   "cell_type": "code",
   "execution_count": 3,
   "metadata": {},
   "outputs": [],
   "source": [
    "\n",
    "class Vinilo:\n",
    "    def __init__(self, Discos, imagenes):\n",
    "        self.discos=Discos\n",
    "    \n",
    "    \n",
    "class Disco:\n",
    "    \n",
    "    def __init__(self, name, genero,canciones):\n",
    "        self.name = name\n",
    "        self.genero= genero\n",
    "        self.canciones=canciones\n",
    "        \n",
    "    def DarNombre():\n",
    "        return nombre\n",
    "    \n",
    "    def DarCanciones():\n",
    "        return canciones\n",
    "    \n",
    "    def DarGenero():\n",
    "        return genero\n",
    "            \n",
    "    \n",
    "\n",
    "class Cancion:\n",
    "    \n",
    "    def __init__(self, lado, numeroimport numpy as np\n",
    "import matplotlib.pyplot as plt\n",
    "import tkinter as tk\n",
    "from PIL import ImageTk,Image, nombre):\n",
    "        \n",
    "        self.lado=lado\n",
    "        self.numero=numero\n",
    "        self.nombre=nombre\n",
    "    \n",
    "    def DarDatos():\n",
    "        return self.lado+self.numero+\" \"+self.nombre\n",
    "        "
   ]
  },
  {
   "cell_type": "code",
   "execution_count": 42,
   "metadata": {},
   "outputs": [],
   "source": [
    "root =tk.Tk()\n",
    "Height=700\n",
    "Width=800\n",
    "root.title(\"La Nola Viniloteca\")\n",
    "#add icon bit map\n",
    "# root.iconbitmap(\"Ruta y nombre archivo\")\n",
    "def ClickBienvenido():\n",
    "    myLabel =tk.Label()\n",
    "    \n",
    "\n",
    "canvas=tk.Canvas(root, height=Height,width=Width)\n",
    "canvas.pack()\n",
    "\n",
    "\n",
    "\n",
    "frame=tk.Frame(root,bg=\"#33FFD3\")\n",
    "frame.place(relx=0.1, rely=0.1,relwidth=0.8,relheight=0.8)\n",
    "#Crea Botón y lo pone\n",
    "button= tk.Button(frame,text=\"Bienvenido\", bg=\"gray\")\n",
    "button.pack()\n",
    "\n",
    "\n",
    "\n",
    "label=tk.Label(frame, text=\"La Nola Viniloteca\")\n",
    "label.pack()\n",
    "\n",
    "entry=tk.Entry(frame)\n",
    "entry.pack()\n",
    "\n",
    "root.mainloop()"
   ]
  },
  {
   "cell_type": "code",
   "execution_count": null,
   "metadata": {},
   "outputs": [],
   "source": []
  }
 ],
 "metadata": {
  "kernelspec": {
   "display_name": "Python 3",
   "language": "python",
   "name": "python3"
  },
  "language_info": {
   "codemirror_mode": {
    "name": "ipython",
    "version": 3
   },
   "file_extension": ".py",
   "mimetype": "text/x-python",
   "name": "python",
   "nbconvert_exporter": "python",
   "pygments_lexer": "ipython3",
   "version": "3.7.3"
  }
 },
 "nbformat": 4,
 "nbformat_minor": 2
}
