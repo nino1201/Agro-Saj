{
 "cells": [
  {
   "cell_type": "code",
   "execution_count": 10,
   "metadata": {},
   "outputs": [],
   "source": [
    "import numpy as np\n",
    "import matplotlib.pyplot as plt\n",
    "from selenium import webdriver\n",
    "from selenium.webdriver.common.by import By\n",
    "from selenium.webdriver.support.ui import WebDriverWait\n",
    "from selenium.webdriver.support import expected_conditions as EC\n",
    "from selenium.webdriver.common.keys import Keys\n",
    "from selenium.webdriver.support.ui import Select\n",
    "import urllib\n",
    "import pandas as pd \n",
    "from selenium.common.exceptions import NoSuchElementException       \n",
    "from datetime import date, timedelta\n",
    "import requests\n",
    "from bs4 import BeautifulSoup\n",
    "from pandas.plotting import lag_plot\n",
    "from pandas import concat\n",
    "from sklearn.metrics import mean_squared_error\n",
    "import statsmodels.tsa.ar_model as stat\n",
    "from sklearn.metrics import mean_squared_error\n",
    "from math import sqrt"
   ]
  },
  {
   "cell_type": "code",
   "execution_count": 11,
   "metadata": {},
   "outputs": [],
   "source": [
    "from selectorlib import Extractor\n",
    "import requests \n",
    "from time import sleep\n",
    "import csv\n",
    "import time\n",
    "from selenium import webdriver\n",
    "from selenium.webdriver.common.keys import Keys\n",
    "from selenium.webdriver.support.ui import Select"
   ]
  },
  {
   "cell_type": "code",
   "execution_count": 12,
   "metadata": {},
   "outputs": [],
   "source": [
    "def check():\n",
    "    try:\n",
    "        browser.find_element_by_xpath(\"/html/body/form/div/div/div/div/div[2]/div/div[2]/div[7]/div/div[2]/table/tbody/tr/td[1]\")\n",
    "    except NoSuchElementException:\n",
    "        return False\n",
    "    return True\n",
    "   "
   ]
  },
  {
   "cell_type": "code",
   "execution_count": 13,
   "metadata": {},
   "outputs": [],
   "source": [
    "start_date = date(2020, 4, 29)\n",
    "end_date = date(2020, 9, 7)\n",
    "delta = timedelta(days=1)\n"
   ]
  },
  {
   "cell_type": "code",
   "execution_count": 15,
   "metadata": {},
   "outputs": [
    {
     "ename": "NoSuchElementException",
     "evalue": "Message: Unable to locate element: a.list-group-item:nth-child(4) > div:nth-child(2)\n",
     "output_type": "error",
     "traceback": [
      "\u001b[0;31m---------------------------------------------------------------------------\u001b[0m",
      "\u001b[0;31mNoSuchElementException\u001b[0m                    Traceback (most recent call last)",
      "\u001b[0;32m<ipython-input-15-bc448fa049cc>\u001b[0m in \u001b[0;36m<module>\u001b[0;34m\u001b[0m\n\u001b[1;32m     15\u001b[0m \u001b[0;34m\u001b[0m\u001b[0m\n\u001b[1;32m     16\u001b[0m     \u001b[0;31m#entra a seleccionar la fecha del reporte\u001b[0m\u001b[0;34m\u001b[0m\u001b[0;34m\u001b[0m\u001b[0;34m\u001b[0m\u001b[0m\n\u001b[0;32m---> 17\u001b[0;31m     \u001b[0mselectBoton\u001b[0m\u001b[0;34m=\u001b[0m\u001b[0mbrowser\u001b[0m\u001b[0;34m.\u001b[0m\u001b[0mfind_element_by_css_selector\u001b[0m\u001b[0;34m(\u001b[0m\u001b[0;34m\"a.list-group-item:nth-child(4) > div:nth-child(2)\"\u001b[0m\u001b[0;34m)\u001b[0m\u001b[0;34m\u001b[0m\u001b[0;34m\u001b[0m\u001b[0m\n\u001b[0m\u001b[1;32m     18\u001b[0m     \u001b[0mselectBoton\u001b[0m\u001b[0;34m.\u001b[0m\u001b[0mclick\u001b[0m\u001b[0;34m(\u001b[0m\u001b[0;34m)\u001b[0m\u001b[0;34m\u001b[0m\u001b[0;34m\u001b[0m\u001b[0m\n\u001b[1;32m     19\u001b[0m \u001b[0;34m\u001b[0m\u001b[0m\n",
      "\u001b[0;32m~/anaconda3/lib/python3.7/site-packages/selenium/webdriver/remote/webdriver.py\u001b[0m in \u001b[0;36mfind_element_by_css_selector\u001b[0;34m(self, css_selector)\u001b[0m\n\u001b[1;32m    596\u001b[0m             \u001b[0melement\u001b[0m \u001b[0;34m=\u001b[0m \u001b[0mdriver\u001b[0m\u001b[0;34m.\u001b[0m\u001b[0mfind_element_by_css_selector\u001b[0m\u001b[0;34m(\u001b[0m\u001b[0;34m'#foo'\u001b[0m\u001b[0;34m)\u001b[0m\u001b[0;34m\u001b[0m\u001b[0;34m\u001b[0m\u001b[0m\n\u001b[1;32m    597\u001b[0m         \"\"\"\n\u001b[0;32m--> 598\u001b[0;31m         \u001b[0;32mreturn\u001b[0m \u001b[0mself\u001b[0m\u001b[0;34m.\u001b[0m\u001b[0mfind_element\u001b[0m\u001b[0;34m(\u001b[0m\u001b[0mby\u001b[0m\u001b[0;34m=\u001b[0m\u001b[0mBy\u001b[0m\u001b[0;34m.\u001b[0m\u001b[0mCSS_SELECTOR\u001b[0m\u001b[0;34m,\u001b[0m \u001b[0mvalue\u001b[0m\u001b[0;34m=\u001b[0m\u001b[0mcss_selector\u001b[0m\u001b[0;34m)\u001b[0m\u001b[0;34m\u001b[0m\u001b[0;34m\u001b[0m\u001b[0m\n\u001b[0m\u001b[1;32m    599\u001b[0m \u001b[0;34m\u001b[0m\u001b[0m\n\u001b[1;32m    600\u001b[0m     \u001b[0;32mdef\u001b[0m \u001b[0mfind_elements_by_css_selector\u001b[0m\u001b[0;34m(\u001b[0m\u001b[0mself\u001b[0m\u001b[0;34m,\u001b[0m \u001b[0mcss_selector\u001b[0m\u001b[0;34m)\u001b[0m\u001b[0;34m:\u001b[0m\u001b[0;34m\u001b[0m\u001b[0;34m\u001b[0m\u001b[0m\n",
      "\u001b[0;32m~/anaconda3/lib/python3.7/site-packages/selenium/webdriver/remote/webdriver.py\u001b[0m in \u001b[0;36mfind_element\u001b[0;34m(self, by, value)\u001b[0m\n\u001b[1;32m    976\u001b[0m         return self.execute(Command.FIND_ELEMENT, {\n\u001b[1;32m    977\u001b[0m             \u001b[0;34m'using'\u001b[0m\u001b[0;34m:\u001b[0m \u001b[0mby\u001b[0m\u001b[0;34m,\u001b[0m\u001b[0;34m\u001b[0m\u001b[0;34m\u001b[0m\u001b[0m\n\u001b[0;32m--> 978\u001b[0;31m             'value': value})['value']\n\u001b[0m\u001b[1;32m    979\u001b[0m \u001b[0;34m\u001b[0m\u001b[0m\n\u001b[1;32m    980\u001b[0m     \u001b[0;32mdef\u001b[0m \u001b[0mfind_elements\u001b[0m\u001b[0;34m(\u001b[0m\u001b[0mself\u001b[0m\u001b[0;34m,\u001b[0m \u001b[0mby\u001b[0m\u001b[0;34m=\u001b[0m\u001b[0mBy\u001b[0m\u001b[0;34m.\u001b[0m\u001b[0mID\u001b[0m\u001b[0;34m,\u001b[0m \u001b[0mvalue\u001b[0m\u001b[0;34m=\u001b[0m\u001b[0;32mNone\u001b[0m\u001b[0;34m)\u001b[0m\u001b[0;34m:\u001b[0m\u001b[0;34m\u001b[0m\u001b[0;34m\u001b[0m\u001b[0m\n",
      "\u001b[0;32m~/anaconda3/lib/python3.7/site-packages/selenium/webdriver/remote/webdriver.py\u001b[0m in \u001b[0;36mexecute\u001b[0;34m(self, driver_command, params)\u001b[0m\n\u001b[1;32m    319\u001b[0m         \u001b[0mresponse\u001b[0m \u001b[0;34m=\u001b[0m \u001b[0mself\u001b[0m\u001b[0;34m.\u001b[0m\u001b[0mcommand_executor\u001b[0m\u001b[0;34m.\u001b[0m\u001b[0mexecute\u001b[0m\u001b[0;34m(\u001b[0m\u001b[0mdriver_command\u001b[0m\u001b[0;34m,\u001b[0m \u001b[0mparams\u001b[0m\u001b[0;34m)\u001b[0m\u001b[0;34m\u001b[0m\u001b[0;34m\u001b[0m\u001b[0m\n\u001b[1;32m    320\u001b[0m         \u001b[0;32mif\u001b[0m \u001b[0mresponse\u001b[0m\u001b[0;34m:\u001b[0m\u001b[0;34m\u001b[0m\u001b[0;34m\u001b[0m\u001b[0m\n\u001b[0;32m--> 321\u001b[0;31m             \u001b[0mself\u001b[0m\u001b[0;34m.\u001b[0m\u001b[0merror_handler\u001b[0m\u001b[0;34m.\u001b[0m\u001b[0mcheck_response\u001b[0m\u001b[0;34m(\u001b[0m\u001b[0mresponse\u001b[0m\u001b[0;34m)\u001b[0m\u001b[0;34m\u001b[0m\u001b[0;34m\u001b[0m\u001b[0m\n\u001b[0m\u001b[1;32m    322\u001b[0m             response['value'] = self._unwrap_value(\n\u001b[1;32m    323\u001b[0m                 response.get('value', None))\n",
      "\u001b[0;32m~/anaconda3/lib/python3.7/site-packages/selenium/webdriver/remote/errorhandler.py\u001b[0m in \u001b[0;36mcheck_response\u001b[0;34m(self, response)\u001b[0m\n\u001b[1;32m    240\u001b[0m                 \u001b[0malert_text\u001b[0m \u001b[0;34m=\u001b[0m \u001b[0mvalue\u001b[0m\u001b[0;34m[\u001b[0m\u001b[0;34m'alert'\u001b[0m\u001b[0;34m]\u001b[0m\u001b[0;34m.\u001b[0m\u001b[0mget\u001b[0m\u001b[0;34m(\u001b[0m\u001b[0;34m'text'\u001b[0m\u001b[0;34m)\u001b[0m\u001b[0;34m\u001b[0m\u001b[0;34m\u001b[0m\u001b[0m\n\u001b[1;32m    241\u001b[0m             \u001b[0;32mraise\u001b[0m \u001b[0mexception_class\u001b[0m\u001b[0;34m(\u001b[0m\u001b[0mmessage\u001b[0m\u001b[0;34m,\u001b[0m \u001b[0mscreen\u001b[0m\u001b[0;34m,\u001b[0m \u001b[0mstacktrace\u001b[0m\u001b[0;34m,\u001b[0m \u001b[0malert_text\u001b[0m\u001b[0;34m)\u001b[0m\u001b[0;34m\u001b[0m\u001b[0;34m\u001b[0m\u001b[0m\n\u001b[0;32m--> 242\u001b[0;31m         \u001b[0;32mraise\u001b[0m \u001b[0mexception_class\u001b[0m\u001b[0;34m(\u001b[0m\u001b[0mmessage\u001b[0m\u001b[0;34m,\u001b[0m \u001b[0mscreen\u001b[0m\u001b[0;34m,\u001b[0m \u001b[0mstacktrace\u001b[0m\u001b[0;34m)\u001b[0m\u001b[0;34m\u001b[0m\u001b[0;34m\u001b[0m\u001b[0m\n\u001b[0m\u001b[1;32m    243\u001b[0m \u001b[0;34m\u001b[0m\u001b[0m\n\u001b[1;32m    244\u001b[0m     \u001b[0;32mdef\u001b[0m \u001b[0m_value_or_default\u001b[0m\u001b[0;34m(\u001b[0m\u001b[0mself\u001b[0m\u001b[0;34m,\u001b[0m \u001b[0mobj\u001b[0m\u001b[0;34m,\u001b[0m \u001b[0mkey\u001b[0m\u001b[0;34m,\u001b[0m \u001b[0mdefault\u001b[0m\u001b[0;34m)\u001b[0m\u001b[0;34m:\u001b[0m\u001b[0;34m\u001b[0m\u001b[0;34m\u001b[0m\u001b[0m\n",
      "\u001b[0;31mNoSuchElementException\u001b[0m: Message: Unable to locate element: a.list-group-item:nth-child(4) > div:nth-child(2)\n"
     ]
    }
   ],
   "source": [
    "URL=\"https://www.corabastos.com.co/sitio/historicoApp2/reportes/prueba.php\"\n",
    "Nombre=[]\n",
    "Precio_corriente=[]\n",
    "Cantidad=[]\n",
    "Presentacion=[]\n",
    "Unidad=[]\n",
    "Precio_extra=[]\n",
    "Precio_primera=[]\n",
    "date=[]\n",
    "\n",
    "while start_date <= end_date:\n",
    "    browser = webdriver.Firefox()\n",
    "\n",
    "    browser.get(URL)\n",
    "\n",
    "    #entra a seleccionar la fecha del reporte\n",
    "    selectBoton=browser.find_element_by_css_selector(\"a.list-group-item:nth-child(4) > div:nth-child(2)\")\n",
    "    selectBoton.click()\n",
    "\n",
    "\n",
    "    #selecciona la fecha del reporte\n",
    "\n",
    "    driver= browser.find_element_by_xpath(\"//*[@id='datepicker3']\")\n",
    "    driver.send_keys(start_date.strftime(\"%Y-%m-%d\"))\n",
    "\n",
    "    dropdown = Select(browser.find_element_by_xpath(\"//*[@id='slHistoricoGrupos']\"))\n",
    "    dropdown.select_by_visible_text(\"HORTALIZAS\")\n",
    "\n",
    "    filters = browser.find_element_by_id(\"dvHistoricoPro\")\n",
    "    cebolla =filters.find_element_by_css_selector(\"#chkpro10\")\n",
    "    cebolla.click()\n",
    "    \n",
    "    browser.implicitly_wait(5)\n",
    "\n",
    "   # buscarBoton=browser.find_element_by_xpath(\"/html/body/form/div/div/div/div/div[2]/div/div[2]/div[5]/div/div/div[2]/div/div[2]/button\")\n",
    "   # buscarBoton.click()\n",
    "\n",
    "\n",
    "    #NewURL=browser.current_url\n",
    "    #page = requests.get(NewURL).text\n",
    "    #print(NewURL)\n",
    "    #soup = BeautifulSoup(page.content, 'html.parser')\n",
    "    #tables = soup.find_all(\"table\")\n",
    "    browser.implicitly_wait(5)\n",
    "    if check()==True:\n",
    "\n",
    "        name=browser.find_element_by_xpath(\"/html/body/form/div/div/div/div/div[2]/div/div[2]/div[7]/div/div[2]/table/tbody/tr/td[1]\")\n",
    "        Nombre.append(name.text)\n",
    "\n",
    "        presentacion=browser.find_element_by_xpath(\"/html/body/form/div/div/div/div/div[2]/div/div[2]/div[7]/div/div[2]/table/tbody/tr/td[2]\")\n",
    "        Presentacion.append(presentacion.text)\n",
    "\n",
    "        cantidad=browser.find_element_by_xpath(\"/html/body/form/div/div/div/div/div[2]/div/div[2]/div[7]/div/div[2]/table/tbody/tr/td[3]\")\n",
    "        Cantidad.append(cantidad.text)\n",
    "\n",
    "        unidad=browser.find_element_by_xpath(\"/html/body/form/div/div/div/div/div[2]/div/div[2]/div[7]/div/div[2]/table/tbody/tr/td[4]\")\n",
    "        Unidad.append(unidad.text)\n",
    "\n",
    "\n",
    "        precio_extra=browser.find_element_by_xpath(\"/html/body/form/div/div/div/div/div[2]/div/div[2]/div[7]/div/div[2]/table/tbody/tr/td[5]\")\n",
    "        Precio_extra.append(precio_extra.text)\n",
    "\n",
    "\n",
    "        precio_primera=browser.find_element_by_xpath(\"/html/body/form/div/div/div/div/div[2]/div/div[2]/div[7]/div/div[2]/table/tbody/tr/td[6]\")\n",
    "        Precio_primera.append(precio_primera.text)\n",
    "\n",
    "\n",
    "        precio_corriente=browser.find_element_by_xpath(\"/html/body/form/div/div/div/div/div[2]/div/div[2]/div[7]/div/div[2]/table/tbody/tr/td[7]\")\n",
    "        Precio_corriente.append(precio_corriente.text)\n",
    "\n",
    "        date.append(start_date.strftime(\"%Y-%m-%d\"))\n",
    "        print(start_date.strftime(\"%Y-%m-%d\"))\n",
    "    start_date += delta\n",
    "    #buscar=browser.find_element_by_xpath(\"/html/body/form/div/div/div/div/div[2]/div/div[2]/div[6]/div[3]/div/div[1]/div/button\")\n",
    "    #buscar.click()\n",
    "    browser.quit()\n",
    "    \n",
    "print(\"data extraida\")"
   ]
  },
  {
   "cell_type": "code",
   "execution_count": 79,
   "metadata": {},
   "outputs": [],
   "source": [
    "data=pd.DataFrame()"
   ]
  },
  {
   "cell_type": "code",
   "execution_count": 80,
   "metadata": {},
   "outputs": [],
   "source": [
    "data[\"Nombre\"]=Nombre"
   ]
  },
  {
   "cell_type": "code",
   "execution_count": 81,
   "metadata": {},
   "outputs": [
    {
     "data": {
      "text/plain": [
       "['BULTO',\n",
       " 'BULTO',\n",
       " 'BULTO',\n",
       " 'BULTO',\n",
       " 'BULTO',\n",
       " 'BULTO',\n",
       " 'BULTO',\n",
       " 'BULTO',\n",
       " 'BULTO',\n",
       " 'BULTO',\n",
       " 'BULTO',\n",
       " 'BULTO',\n",
       " 'BULTO',\n",
       " 'BULTO',\n",
       " 'BULTO',\n",
       " 'BULTO',\n",
       " 'BULTO',\n",
       " 'BULTO',\n",
       " 'BULTO',\n",
       " 'BULTO',\n",
       " 'BULTO',\n",
       " 'BULTO',\n",
       " 'BULTO',\n",
       " 'BULTO',\n",
       " 'BULTO',\n",
       " 'BULTO',\n",
       " 'BULTO',\n",
       " 'BULTO',\n",
       " 'BULTO',\n",
       " 'BULTO',\n",
       " 'BULTO',\n",
       " 'BULTO',\n",
       " 'BULTO',\n",
       " 'BULTO',\n",
       " 'BULTO',\n",
       " 'BULTO',\n",
       " 'BULTO',\n",
       " 'BULTO',\n",
       " 'BULTO',\n",
       " 'BULTO',\n",
       " 'BULTO',\n",
       " 'BULTO',\n",
       " 'BULTO',\n",
       " 'BULTO',\n",
       " 'BULTO',\n",
       " 'BULTO',\n",
       " 'BULTO',\n",
       " 'BULTO',\n",
       " 'BULTO',\n",
       " 'BULTO',\n",
       " 'BULTO',\n",
       " 'BULTO',\n",
       " 'BULTO',\n",
       " 'BULTO',\n",
       " 'BULTO',\n",
       " 'BULTO',\n",
       " 'BULTO',\n",
       " 'BULTO',\n",
       " 'BULTO',\n",
       " 'BULTO',\n",
       " 'BULTO']"
      ]
     },
     "execution_count": 81,
     "metadata": {},
     "output_type": "execute_result"
    }
   ],
   "source": [
    "Presentacion"
   ]
  },
  {
   "cell_type": "code",
   "execution_count": 82,
   "metadata": {},
   "outputs": [],
   "source": [
    "data[\"Fecha\"]=date\n",
    "data[\"Precio corriente\"]=Precio_corriente\n",
    "data[\"Precio extra\"]=Precio_extra\n",
    "data[\"Precio primera\"]=Precio_primera\n"
   ]
  },
  {
   "cell_type": "code",
   "execution_count": 86,
   "metadata": {},
   "outputs": [
    {
     "data": {
      "text/html": [
       "<div>\n",
       "<style scoped>\n",
       "    .dataframe tbody tr th:only-of-type {\n",
       "        vertical-align: middle;\n",
       "    }\n",
       "\n",
       "    .dataframe tbody tr th {\n",
       "        vertical-align: top;\n",
       "    }\n",
       "\n",
       "    .dataframe thead th {\n",
       "        text-align: right;\n",
       "    }\n",
       "</style>\n",
       "<table border=\"1\" class=\"dataframe\">\n",
       "  <thead>\n",
       "    <tr style=\"text-align: right;\">\n",
       "      <th></th>\n",
       "      <th>Nombre</th>\n",
       "      <th>Fecha</th>\n",
       "      <th>Precio corriente</th>\n",
       "      <th>Precio extra</th>\n",
       "      <th>Precio primera</th>\n",
       "    </tr>\n",
       "  </thead>\n",
       "  <tbody>\n",
       "    <tr>\n",
       "      <th>56</th>\n",
       "      <td>CEBOLLA CABEZONA BLANCA</td>\n",
       "      <td>2020-09-02</td>\n",
       "      <td>1200.0</td>\n",
       "      <td>1400.0</td>\n",
       "      <td>1300.0</td>\n",
       "    </tr>\n",
       "    <tr>\n",
       "      <th>57</th>\n",
       "      <td>CEBOLLA CABEZONA BLANCA</td>\n",
       "      <td>2020-09-03</td>\n",
       "      <td>1200.0</td>\n",
       "      <td>1400.0</td>\n",
       "      <td>1300.0</td>\n",
       "    </tr>\n",
       "    <tr>\n",
       "      <th>58</th>\n",
       "      <td>CEBOLLA CABEZONA BLANCA</td>\n",
       "      <td>2020-09-04</td>\n",
       "      <td>1200.0</td>\n",
       "      <td>1400.0</td>\n",
       "      <td>1300.0</td>\n",
       "    </tr>\n",
       "    <tr>\n",
       "      <th>59</th>\n",
       "      <td>CEBOLLA CABEZONA BLANCA</td>\n",
       "      <td>2020-09-05</td>\n",
       "      <td>1200.0</td>\n",
       "      <td>1400.0</td>\n",
       "      <td>1300.0</td>\n",
       "    </tr>\n",
       "    <tr>\n",
       "      <th>60</th>\n",
       "      <td>CEBOLLA CABEZONA BLANCA</td>\n",
       "      <td>2020-09-07</td>\n",
       "      <td>1200.0</td>\n",
       "      <td>1400.0</td>\n",
       "      <td>1300.0</td>\n",
       "    </tr>\n",
       "  </tbody>\n",
       "</table>\n",
       "</div>"
      ],
      "text/plain": [
       "                     Nombre       Fecha  Precio corriente  Precio extra  \\\n",
       "56  CEBOLLA CABEZONA BLANCA  2020-09-02            1200.0        1400.0   \n",
       "57  CEBOLLA CABEZONA BLANCA  2020-09-03            1200.0        1400.0   \n",
       "58  CEBOLLA CABEZONA BLANCA  2020-09-04            1200.0        1400.0   \n",
       "59  CEBOLLA CABEZONA BLANCA  2020-09-05            1200.0        1400.0   \n",
       "60  CEBOLLA CABEZONA BLANCA  2020-09-07            1200.0        1400.0   \n",
       "\n",
       "    Precio primera  \n",
       "56          1300.0  \n",
       "57          1300.0  \n",
       "58          1300.0  \n",
       "59          1300.0  \n",
       "60          1300.0  "
      ]
     },
     "execution_count": 86,
     "metadata": {},
     "output_type": "execute_result"
    }
   ],
   "source": [
    "data.tail()"
   ]
  },
  {
   "cell_type": "code",
   "execution_count": 84,
   "metadata": {},
   "outputs": [],
   "source": [
    "data['Precio corriente'] = data['Precio corriente'].replace({'\\$': '', ',': ''}, regex=True).astype(float)\n"
   ]
  },
  {
   "cell_type": "code",
   "execution_count": 85,
   "metadata": {},
   "outputs": [],
   "source": [
    "data['Precio extra'] = data['Precio extra'].replace({'\\$': '', ',': ''}, regex=True).astype(float)\n",
    "data['Precio primera'] = data['Precio primera'].replace({'\\$': '', ',': ''}, regex=True).astype(float)"
   ]
  },
  {
   "cell_type": "code",
   "execution_count": 87,
   "metadata": {},
   "outputs": [],
   "source": [
    "data.head()\n",
    "data.to_csv(\"Precio_cebolla_2020-05-04_to_2020-09-07.csv\")"
   ]
  },
  {
   "cell_type": "code",
   "execution_count": 88,
   "metadata": {},
   "outputs": [
    {
     "data": {
      "image/png": "[encoded data removed]",
      "text/plain": [
       "<Figure size 432x288 with 1 Axes>"
      ]
     },
     "metadata": {
      "needs_background": "light"
     },
     "output_type": "display_data"
    }
   ],
   "source": [
    "ax=plt.gca()\n",
    "data.plot(kind=\"scatter\",x=\"Fecha\",y=\"Precio corriente\",ax=ax)\n",
    "plt.show()"
   ]
  },
  {
   "cell_type": "code",
   "execution_count": 3,
   "metadata": {},
   "outputs": [],
   "source": [
    "data1=pd.read_csv(\"Precio_cebolla_2017-01-02_to_2019-06-29.csv\")\n",
    "data2=pd.read_csv(\"Precio_cebolla_2019-08-10_to_2020-01-27.csv\")\n",
    "data3=pd.read_csv(\"Precio_cebolla_2020-01-29_to_2019-04-28.csv\")\n",
    "data4=pd.read_csv(\"Precio_cebolla_2020-05-04_to_2020-09-07.csv\")"
   ]
  },
  {
   "cell_type": "code",
   "execution_count": 4,
   "metadata": {},
   "outputs": [],
   "source": [
    "Cebolla=data1.append(data2,ignore_index=True).append(data3,ignore_index=True).append(data4,ignore_index=True)"
   ]
  },
  {
   "cell_type": "code",
   "execution_count": 66,
   "metadata": {},
   "outputs": [],
   "source": [
    "Cebolla[\"Día\"]=np.zeros(len(Cebolla[\"Fecha\"]))\n",
    "Cebolla['Fecha']= pd.to_datetime(Cebolla['Fecha']) "
   ]
  },
  {
   "cell_type": "code",
   "execution_count": 67,
   "metadata": {},
   "outputs": [
    {
     "name": "stderr",
     "output_type": "stream",
     "text": [
      "/home/alejandro/anaconda3/lib/python3.7/site-packages/ipykernel_launcher.py:7: SettingWithCopyWarning: \n",
      "A value is trying to be set on a copy of a slice from a DataFrame\n",
      "\n",
      "See the caveats in the documentation: https://pandas.pydata.org/pandas-docs/stable/user_guide/indexing.html#returning-a-view-versus-a-copy\n",
      "  import sys\n"
     ]
    }
   ],
   "source": [
    "start_date2 = date(2017, 1, 1)\n",
    "end_date2 = date(2020, 9, 7)\n",
    "delta2 = timedelta(days=1)\n",
    "day2=1\n",
    "while start_date2 <= end_date2:\n",
    "    if (Cebolla[\"Fecha\"]==start_date2.strftime(\"%Y-%m-%d\")).any():\n",
    "        Cebolla[\"Día\"][Cebolla[Cebolla[\"Fecha\"]==start_date2.strftime(\"%Y-%m-%d\")].index[0]]=day2\n",
    "    start_date2 += delta2\n",
    "    day2+=1"
   ]
  },
  {
   "cell_type": "code",
   "execution_count": 68,
   "metadata": {},
   "outputs": [
    {
     "data": {
      "image/png": "[encoded data removed]",
      "text/plain": [
       "<Figure size 432x288 with 1 Axes>"
      ]
     },
     "metadata": {
      "needs_background": "light"
     },
     "output_type": "display_data"
    }
   ],
   "source": [
    "plt.plot(Cebolla[\"Día\"].values,Cebolla[\"Precio corriente\"].values)\n",
    "plt.show()"
   ]
  },
  {
   "cell_type": "code",
   "execution_count": 69,
   "metadata": {},
   "outputs": [],
   "source": [
    "def convert_number_to(fechas):\n",
    "    start_date3 = date(2017, 1, 1)\n",
    "    fechaRe=np.array(fechas.split(\"-\"))\n",
    "    end_date3=date(int(fechaRe[0]),int(fechaRe[1]),int(fechaRe[2]))\n",
    "    delta3 = timedelta(days=1)\n",
    "    day3=1\n",
    "    \n",
    "    while start_date3 <= end_date3:    \n",
    "        start_date3 += delta3\n",
    "        day3+=1\n",
    "        \n",
    "    print(day3)\n",
    "        "
   ]
  },
  {
   "cell_type": "code",
   "execution_count": 70,
   "metadata": {},
   "outputs": [
    {
     "name": "stdout",
     "output_type": "stream",
     "text": [
      "1218\n"
     ]
    }
   ],
   "source": [
    "convert_number_to(\"2020-05-1\")"
   ]
  },
  {
   "cell_type": "markdown",
   "metadata": {},
   "source": [
    "# Autoregression Models for Time Series Forecasting"
   ]
  },
  {
   "cell_type": "markdown",
   "metadata": {},
   "source": [
    "Determinar si existe alguna correlación para luego implementar un modelo autorregresivo "
   ]
  },
  {
   "cell_type": "code",
   "execution_count": 14,
   "metadata": {},
   "outputs": [
    {
     "data": {
      "text/plain": [
       "<AxesSubplot:xlabel='y(t)', ylabel='y(t + 1)'>"
      ]
     },
     "execution_count": 14,
     "metadata": {},
     "output_type": "execute_result"
    },
    {
     "data": {
      "image/png": "[encoded data removed]",
      "text/plain": [
       "<Figure size 432x288 with 1 Axes>"
      ]
     },
     "metadata": {
      "needs_background": "light"
     },
     "output_type": "display_data"
    }
   ],
   "source": [
    "lag_plot(Cebolla[\"Precio corriente\"])"
   ]
  },
  {
   "cell_type": "code",
   "execution_count": 42,
   "metadata": {},
   "outputs": [
    {
     "name": "stdout",
     "output_type": "stream",
     "text": [
      "          0         0\n",
      "0  1.000000  0.973284\n",
      "0  0.973284  1.000000\n"
     ]
    }
   ],
   "source": [
    "values=pd.DataFrame(Cebolla[\"Precio corriente\"].values)\n",
    "dataframe=concat([values.shift(1),values],axis=1)\n",
    "result = dataframe.corr()\n",
    "print(result)"
   ]
  },
  {
   "cell_type": "markdown",
   "metadata": {},
   "source": [
    "# Persistence Model"
   ]
  },
  {
   "cell_type": "code",
   "execution_count": 64,
   "metadata": {},
   "outputs": [
    {
     "name": "stdout",
     "output_type": "stream",
     "text": [
      "Test MSE: 5666.667\n"
     ]
    },
    {
     "data": {
      "image/png": "[encoded data removed]",
      "text/plain": [
       "<Figure size 432x288 with 1 Axes>"
      ]
     },
     "metadata": {
      "needs_background": "light"
     },
     "output_type": "display_data"
    }
   ],
   "source": [
    "# split into train and test sets\n",
    "X = dataframe.values\n",
    "train, test = X[1:len(X)-30], X[len(X)-30:]\n",
    "train_X, train_y = train[:,0], train[:,1]\n",
    "test_X, test_y = test[:,0], test[:,1]\n",
    " \n",
    "# persistence model\n",
    "def model_persistence(x):\n",
    "\treturn x\n",
    " \n",
    "# walk-forward validation\n",
    "predictions = list()\n",
    "for x in test_X:\n",
    "\tyhat = model_persistence(x)\n",
    "\tpredictions.append(yhat)\n",
    "test_score = mean_squared_error(test_y, predictions)\n",
    "print('Test MSE: %.3f' % test_score)\n",
    "# plot predictions vs expected\n",
    "plt.plot(test_y)\n",
    "plt.plot(predictions, color='red')\n",
    "plt.show()"
   ]
  },
  {
   "cell_type": "markdown",
   "metadata": {},
   "source": [
    "# Autoregression Model"
   ]
  },
  {
   "cell_type": "code",
   "execution_count": 113,
   "metadata": {},
   "outputs": [
    {
     "name": "stdout",
     "output_type": "stream",
     "text": [
      "predicted=1834.229083, expected=1700.000000\n",
      "predicted=1804.555917, expected=1600.000000\n",
      "predicted=1713.762409, expected=1600.000000\n",
      "predicted=1703.658325, expected=1600.000000\n",
      "predicted=1718.092801, expected=1700.000000\n",
      "predicted=1809.170542, expected=1700.000000\n",
      "predicted=1804.555917, expected=1800.000000\n",
      "predicted=1891.539015, expected=1800.000000\n",
      "predicted=1897.264223, expected=1600.000000\n",
      "predicted=1730.111681, expected=1600.000000\n",
      "predicted=1712.092952, expected=1600.000000\n",
      "predicted=1728.432634, expected=1600.000000\n",
      "predicted=1732.811509, expected=1500.000000\n",
      "predicted=1618.864665, expected=1600.000000\n",
      "predicted=1699.838323, expected=1600.000000\n",
      "predicted=1709.658174, expected=1700.000000\n",
      "predicted=1798.830710, expected=1700.000000\n",
      "predicted=1792.026647, expected=1700.000000\n",
      "predicted=1802.650712, expected=1600.000000\n",
      "predicted=1711.572971, expected=1500.000000\n",
      "predicted=1627.299292, expected=1500.000000\n",
      "predicted=1621.289852, expected=1500.000000\n",
      "predicted=1625.384495, expected=1500.000000\n",
      "predicted=1615.044663, expected=1300.000000\n",
      "predicted=1424.738786, expected=1300.000000\n",
      "predicted=1408.909494, expected=1200.000000\n",
      "predicted=1323.831602, expected=1200.000000\n",
      "predicted=1320.295832, expected=1200.000000\n",
      "predicted=1297.142496, expected=1200.000000\n",
      "predicted=1299.331934, expected=1200.000000\n",
      "Test RMSE: 148.485\n"
     ]
    },
    {
     "data": {
      "image/png": "[encoded data removed]",
      "text/plain": [
       "<Figure size 432x288 with 1 Axes>"
      ]
     },
     "metadata": {
      "needs_background": "light"
     },
     "output_type": "display_data"
    }
   ],
   "source": [
    "X = Cebolla[\"Precio corriente\"].values\n",
    "Xd= Cebolla[\"Fecha\"].values\n",
    "train, test = X[1:len(X)-30], X[len(X)-30:]\n",
    "traind,testd= Xd[1:len(Xd)-30], Xd[len(Xd)-30:]\n",
    "# train autoregression\n",
    "window = 5\n",
    "model = stat.AR(train)\n",
    "model_fit = model.fit()\n",
    "coef = model_fit.params\n",
    "# walk forward over time steps in test\n",
    "history = train[len(train)-window:]\n",
    "history = [history[i] for i in range(len(history))]\n",
    "predictions = list()\n",
    "for t in range(len(test)):\n",
    "\tlength = len(history)\n",
    "\tlag = [history[i] for i in range(length-window,length)]\n",
    "\tyhat = coef[0]\n",
    "\tfor d in range(window):\n",
    "\t\tyhat += coef[d+1] * lag[window-d-1]\n",
    "\tobs = test[t]\n",
    "\tpredictions.append(yhat)\n",
    "\thistory.append(obs)\n",
    "\tprint('predicted=%f, expected=%f' % (yhat, obs))\n",
    "rmse = sqrt(mean_squared_error(test, predictions))\n",
    "print('Test RMSE: %.3f' % rmse)\n",
    "# plot\n",
    "plt.plot(test)\n",
    "plt.plot(predictions, color='red')\n",
    "plt.show()"
   ]
  },
  {
   "cell_type": "code",
   "execution_count": 109,
   "metadata": {},
   "outputs": [
    {
     "data": {
      "text/plain": [
       "array([-134.22908331, -204.55591739, -113.76240859, -103.6583251 ,\n",
       "        -18.09280112, -109.17054225,   -4.55591739,  -91.53901521,\n",
       "       -297.26422306, -130.11168148, -112.09295232, -128.43263383,\n",
       "       -232.81150947,  -18.8646651 ,  -99.83832274,   -9.65817391,\n",
       "        -98.83070955,  -92.02664687, -202.6507119 , -211.57297077,\n",
       "       -127.29929232, -121.28985214, -125.38449545, -315.04466275,\n",
       "       -124.7387856 , -208.90949426, -123.83160193, -120.2958319 ,\n",
       "        -97.14249634,  -99.33193416])"
      ]
     },
     "execution_count": 109,
     "metadata": {},
     "output_type": "execute_result"
    }
   ],
   "source": [
    "test-predictions"
   ]
  },
  {
   "cell_type": "code",
   "execution_count": null,
   "metadata": {},
   "outputs": [],
   "source": []
  },
  {
   "cell_type": "code",
   "execution_count": 110,
   "metadata": {},
   "outputs": [
    {
     "data": {
      "text/plain": [
       "array([ 2.39517493e+01,  8.88883033e-01,  7.91464567e-02, -1.90520549e-02,\n",
       "       -2.18943782e-02,  1.25292705e-01, -1.87046781e-01,  4.14075116e-02,\n",
       "        2.62924795e-02,  1.95521326e-02,  2.62846629e-02,  7.77375996e-02,\n",
       "       -5.60725426e-02, -4.96575701e-03, -9.06570216e-02,  5.61458309e-02,\n",
       "        5.87766414e-02,  4.49212244e-02, -4.75084425e-02, -2.96910160e-03,\n",
       "       -3.49117215e-02])"
      ]
     },
     "execution_count": 110,
     "metadata": {},
     "output_type": "execute_result"
    }
   ],
   "source": [
    "coef"
   ]
  },
  {
   "cell_type": "code",
   "execution_count": null,
   "metadata": {},
   "outputs": [],
   "source": []
  }
 ],
 "metadata": {
  "kernelspec": {
   "display_name": "Python 3",
   "language": "python",
   "name": "python3"
  },
  "language_info": {
   "codemirror_mode": {
    "name": "ipython",
    "version": 3
   },
   "file_extension": ".py",
   "mimetype": "text/x-python",
   "name": "python",
   "nbconvert_exporter": "python",
   "pygments_lexer": "ipython3",
   "version": "3.7.3"
  }
 },
 "nbformat": 4,
 "nbformat_minor": 2
}
