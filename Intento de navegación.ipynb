{
 "cells": [
  {
   "cell_type": "code",
   "execution_count": 1,
   "metadata": {},
   "outputs": [],
   "source": [
    "import time\n",
    "from selenium import webdriver\n",
    "from selenium.webdriver.common.keys import Keys\n",
    "from selenium.webdriver.support.ui import Select\n",
    "\n"
   ]
  },
  {
   "cell_type": "code",
   "execution_count": 2,
   "metadata": {},
   "outputs": [],
   "source": [
    "# This Code open firefox, then, open the website Google and search  Hoteles cachipay\n",
    "browser = webdriver.Firefox()\n",
    "browser.get(\"https://www.google.es/\")\n",
    "driver= browser.find_element_by_name('q')\n",
    "driver.send_keys(\"Hoteles cachipay\")\n",
    "driver.send_keys(Keys.RETURN)\n",
    "time.sleep(5)\n",
    "browser.quit()"
   ]
  },
  {
   "cell_type": "code",
   "execution_count": 3,
   "metadata": {},
   "outputs": [
    {
     "name": "stdout",
     "output_type": "stream",
     "text": [
      "https://www.booking.com/searchresults.es.html?aid=304142&label=gen173nr-1BCAEoggI46AdIM1gEaDKIAQGYAQq4ARnIAQzYAQHoAQGIAgGoAgO4At6zr_YFwAIB2AIB&sid=bc5f2beb8b5f476247247595cf387ad1&tmpl=searchresults&age=12&age=12&checkin=2020-10-08&checkin_monthday=8&checkin_year_month=2020-10&checkout=2020-10-11&checkout_monthday=11&checkout_year_month=2020-10&city=900056751&class_interval=1&dest_id=900056751&dest_type=city&dtdisc=0&group_adults=2&group_children=2&inac=0&index_postcard=0&label_click=undef&no_rooms=2&postcard=0&raw_dest_type=city&room1=A%2C12&room2=A%2C12&rows=20&sb_price_type=total&search_form_id=4ec178443b3b01f8&shw_aparth=1&slp_r_match=0&srpvid=fbc087355ff6015c&ss_all=0&ssb=empty&sshis=0&top_ufis=1&nflt=pri%3D2%3B&rsf=\n"
     ]
    }
   ],
   "source": [
    "browser = webdriver.Firefox()\n",
    "browser.get(\"https://www.booking.com/searchresults.es.html?aid=304142&label=gen173nr-1DCAEoggI46AdIM1gEaDKIAQGYAQq4ARnIAQzYAQPoAQGIAgGoAgO4At6zr_YFwAIB&sid=8e3da68f1810e1e9b4dd24f4c697fe6e&tmpl=searchresults&age=12&age=12&checkin=2020-10-08&checkin_monthday=8&checkin_year_month=2020-10&checkout=2020-10-11&checkout_monthday=11&checkout_year_month=2020-10&city=900056751&class_interval=1&dest_id=900056751&dest_type=city&group_adults=2&group_children=2&label_click=undef&no_rooms=2&raw_dest_type=city&room1=A%2C12&room2=A%2C12&rows=20&sb_price_type=total&search_form_id=4ec178443b3b01f8&shw_aparth=1&slp_r_match=0&srpvid=e3d6785e97b3015b&ssb=empty&top_ufis=1&rdf=\")\n",
    "filterprice = browser.find_element_by_id('filter_price')\n",
    "filteroptions=filterprice.find_element_by_class_name(\"filteroptions\")\n",
    "Option1= filteroptions.find_element_by_css_selector(\"[data-id='pri-2']\")\n",
    "Option1.click()\n",
    "print(browser.current_url)\n"
   ]
  },
  {
   "cell_type": "code",
   "execution_count": 3,
   "metadata": {},
   "outputs": [
    {
     "name": "stderr",
     "output_type": "stream",
     "text": [
      "E\n",
      "======================================================================\n",
      "ERROR: /run/user/1000/jupyter/kernel-4032fc1f-3c3e-4436-b6b7-37f00b0a39cf (unittest.loader._FailedTest)\n",
      "----------------------------------------------------------------------\n",
      "AttributeError: module '__main__' has no attribute '/run/user/1000/jupyter/kernel-4032fc1f-3c3e-4436-b6b7-37f00b0a39cf'\n",
      "\n",
      "----------------------------------------------------------------------\n",
      "Ran 1 test in 0.002s\n",
      "\n",
      "FAILED (errors=1)\n"
     ]
    },
    {
     "ename": "SystemExit",
     "evalue": "True",
     "output_type": "error",
     "traceback": [
      "An exception has occurred, use %tb to see the full traceback.\n",
      "\u001b[0;31mSystemExit\u001b[0m\u001b[0;31m:\u001b[0m True\n"
     ]
    },
    {
     "name": "stderr",
     "output_type": "stream",
     "text": [
      "/home/alejandro/anaconda3/lib/python3.7/site-packages/IPython/core/interactiveshell.py:3304: UserWarning: To exit: use 'exit', 'quit', or Ctrl-D.\n",
      "  warn(\"To exit: use 'exit', 'quit', or Ctrl-D.\", stacklevel=1)\n"
     ]
    }
   ],
   "source": []
  },
  {
   "cell_type": "code",
   "execution_count": 1,
   "metadata": {},
   "outputs": [
    {
     "ename": "NameError",
     "evalue": "name 'quote' is not defined",
     "output_type": "error",
     "traceback": [
      "\u001b[0;31m---------------------------------------------------------------------------\u001b[0m",
      "\u001b[0;31mNameError\u001b[0m                                 Traceback (most recent call last)",
      "\u001b[0;32m<ipython-input-1-3fae7337f409>\u001b[0m in \u001b[0;36m<module>\u001b[0;34m\u001b[0m\n\u001b[0;32m----> 1\u001b[0;31m \u001b[0mquote\u001b[0m\u001b[0;34m\u001b[0m\u001b[0;34m\u001b[0m\u001b[0m\n\u001b[0m",
      "\u001b[0;31mNameError\u001b[0m: name 'quote' is not defined"
     ]
    }
   ],
   "source": [
    "quote"
   ]
  },
  {
   "cell_type": "code",
   "execution_count": null,
   "metadata": {},
   "outputs": [],
   "source": []
  }
 ],
 "metadata": {
  "kernelspec": {
   "display_name": "Python 3",
   "language": "python",
   "name": "python3"
  },
  "language_info": {
   "codemirror_mode": {
    "name": "ipython",
    "version": 3
   },
   "file_extension": ".py",
   "mimetype": "text/x-python",
   "name": "python",
   "nbconvert_exporter": "python",
   "pygments_lexer": "ipython3",
   "version": "3.7.3"
  }
 },
 "nbformat": 4,
 "nbformat_minor": 2
}
